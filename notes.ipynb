{
 "cells": [
  {
   "cell_type": "markdown",
   "id": "436e7008",
   "metadata": {},
   "source": [
    "# Acquire"
   ]
  },
  {
   "cell_type": "markdown",
   "id": "33988750",
   "metadata": {},
   "source": [
    "### Original Data Set"
   ]
  },
  {
   "cell_type": "markdown",
   "id": "7c7b0c99",
   "metadata": {},
   "source": [
    "__Shape:__ \n",
    "    \n",
    "    (1000,9)\n",
    "    (rows, columns)"
   ]
  },
  {
   "cell_type": "markdown",
   "id": "db4308a8",
   "metadata": {},
   "source": [
    "__Stats:__ \n",
    "    \n",
    "- Only statistics for column - Rank were given. \n",
    "- 'Rank' does not need stats. \n",
    "- Other stats can be attained from the below columns once cleaned to be numerical.\n",
    "\n",
    "        - Subscribers Count \n",
    "        - Views. Avg\n",
    "        - Likes. Avg \n",
    "        - Comments. Avg \n",
    "        - Shares. Avg"
   ]
  },
  {
   "cell_type": "markdown",
   "id": "2df11505",
   "metadata": {},
   "source": [
    "__Info__:\n",
    "\n",
    "- 'Name' has 2 null values\n",
    "- All columns except 'Rank' are objects\n",
    "- These columns will be changed to a float because that is a usuable dtype.\n",
    "\n",
    "        - Subscribers Count \n",
    "        - Views. Avg \n",
    "        - Likes. Avg\n",
    "        - Comments. Avg \n",
    "        - Shares. Avg\n",
    "- rename columns to be lowercase and snakecase"
   ]
  },
  {
   "cell_type": "markdown",
   "id": "24d9520b",
   "metadata": {},
   "source": [
    "__Data Types:__\n",
    "\n",
    "- All columns except 'Rank' are objects\n",
    "- These columns will be changed to a float because that is a usuable dtype.\n",
    "\n",
    "        - Subscribers Count\n",
    "        - Views. Avg \n",
    "        - Likes. Avg \n",
    "        - Comments. Avg\n",
    "        - Shares. Avg"
   ]
  },
  {
   "cell_type": "markdown",
   "id": "c8aff263",
   "metadata": {},
   "source": [
    "__Null/ NA Values:__\n",
    "    \n",
    "\n",
    "- 'Name' contains 2 null values."
   ]
  },
  {
   "cell_type": "markdown",
   "id": "aaf4921d",
   "metadata": {},
   "source": [
    "__Unique Value Count:__\n",
    "\n",
    "    Rank                 1000\n",
    "    Username              997 (3 DUPLICATES)\n",
    "    Tiktok Link           997 (3 DUPLICATES)\n",
    "    Name                  991 (7 DUPLICATES, 2 NULL)\n",
    "    Subscribers Count     413\n",
    "    Views. Avg            128\n",
    "    Likes. Avg            879\n",
    "    Comments. Avg         255\n",
    "    Shares. Avg           376\n",
    "    \n",
    "    Because of the 1:1 identifying nature of \n",
    "        - Username \n",
    "        - Tiktok Link \n",
    "        - Name\n",
    "    I am able to quickly see there are duplicates present in these columns. The remaining columns do not follow the same 1:1 nature thus the presence of duplicate values is not relevent."
   ]
  },
  {
   "cell_type": "markdown",
   "id": "eaeca365",
   "metadata": {},
   "source": [
    "__To Do for Data Cleaning:__"
   ]
  },
  {
   "cell_type": "markdown",
   "id": "2957d38a",
   "metadata": {},
   "source": [
    "- Convert these columns to be numerical.\n",
    "\n",
    "        - Subscribers Count\n",
    "        - Views. Avg\n",
    "        - Likes. Avg \n",
    "        - Comments. Avg\n",
    "        - Shares. Avg'"
   ]
  },
  {
   "cell_type": "markdown",
   "id": "b11ac975",
   "metadata": {},
   "source": [
    "- Rename columns to be formatted as all lowercase and in snakecase"
   ]
  },
  {
   "cell_type": "markdown",
   "id": "a81345c5",
   "metadata": {},
   "source": [
    "- Find and delete duplicate values in\n",
    "    \n",
    "        - Username\n",
    "        - Tiktok Link \n",
    "        - Name"
   ]
  },
  {
   "cell_type": "code",
   "execution_count": null,
   "id": "f7f8915b",
   "metadata": {},
   "outputs": [],
   "source": []
  }
 ],
 "metadata": {
  "kernelspec": {
   "display_name": "Python 3 (ipykernel)",
   "language": "python",
   "name": "python3"
  },
  "language_info": {
   "codemirror_mode": {
    "name": "ipython",
    "version": 3
   },
   "file_extension": ".py",
   "mimetype": "text/x-python",
   "name": "python",
   "nbconvert_exporter": "python",
   "pygments_lexer": "ipython3",
   "version": "3.9.13"
  }
 },
 "nbformat": 4,
 "nbformat_minor": 5
}
