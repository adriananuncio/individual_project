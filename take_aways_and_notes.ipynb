{
 "cells": [
  {
   "cell_type": "markdown",
   "id": "ff310d0d",
   "metadata": {},
   "source": [
    "# Acquire and Prepare"
   ]
  },
  {
   "cell_type": "markdown",
   "id": "bc870509",
   "metadata": {},
   "source": [
    "### Original Data Set"
   ]
  },
  {
   "cell_type": "markdown",
   "id": "0141b949",
   "metadata": {},
   "source": [
    "__Shape:__ \n",
    "    \n",
    "    (1000,9)\n",
    "    (rows, columns)"
   ]
  },
  {
   "cell_type": "markdown",
   "id": "3f942339",
   "metadata": {},
   "source": [
    "__Stats:__ \n",
    "    \n",
    "- Only statistics for column - Rank were given. \n",
    "- 'Rank' does not need stats. \n",
    "- Other stats can be attained from the below columns once cleaned to be numerical.\n",
    "\n",
    "        - Subscribers Count \n",
    "        - Views. Avg\n",
    "        - Likes. Avg \n",
    "        - Comments. Avg \n",
    "        - Shares. Avg"
   ]
  },
  {
   "cell_type": "markdown",
   "id": "4c1933e0",
   "metadata": {},
   "source": [
    "__Info__:\n",
    "\n",
    "- 'Name' has 2 null values\n",
    "- All columns except 'Rank' are objects\n",
    "- These columns will be changed to a float because that is a usuable dtype.\n",
    "\n",
    "        - Subscribers Count \n",
    "        - Views. Avg \n",
    "        - Likes. Avg\n",
    "        - Comments. Avg \n",
    "        - Shares. Avg\n",
    "- rename columns to be lowercase and snakecase"
   ]
  },
  {
   "cell_type": "markdown",
   "id": "1824add7",
   "metadata": {},
   "source": [
    "__Data Types:__\n",
    "\n",
    "- All columns except 'Rank' are objects\n",
    "- These columns will be changed to a float because that is a usuable dtype.\n",
    "\n",
    "        - Subscribers Count\n",
    "        - Views. Avg \n",
    "        - Likes. Avg \n",
    "        - Comments. Avg\n",
    "        - Shares. Avg"
   ]
  },
  {
   "cell_type": "markdown",
   "id": "1e227e83",
   "metadata": {},
   "source": [
    "__Null/ NA Values:__\n",
    "    \n",
    "\n",
    "- 'Name' contains 2 null values."
   ]
  },
  {
   "cell_type": "markdown",
   "id": "b5f240b0",
   "metadata": {},
   "source": [
    "__Unique Value Count:__\n",
    "\n",
    "    Rank                 1000\n",
    "    Username              997 (3 DUPLICATES)\n",
    "    Tiktok Link           997 (3 DUPLICATES)\n",
    "    Name                  991 (7 DUPLICATES, 2 NULL)\n",
    "    Subscribers Count     413\n",
    "    Views. Avg            128\n",
    "    Likes. Avg            879\n",
    "    Comments. Avg         255\n",
    "    Shares. Avg           376\n",
    "    \n",
    "    Because of the 1:1 identifying nature of \n",
    "        - Username \n",
    "        - Tiktok Link \n",
    "        - Name\n",
    "    I am able to quickly see there are duplicates present in these columns. The remaining columns do not follow the same 1:1 nature thus the presence of duplicate values is not relevent."
   ]
  },
  {
   "cell_type": "markdown",
   "id": "505f0ba9",
   "metadata": {},
   "source": [
    "__To Do for Data Cleaning:__"
   ]
  },
  {
   "cell_type": "markdown",
   "id": "dac31054",
   "metadata": {},
   "source": [
    "__X__ Convert these columns to be numerical.\n",
    "\n",
    "        - Subscribers Count\n",
    "        - Views. Avg\n",
    "        - Likes. Avg \n",
    "        - Comments. Avg\n",
    "        - Shares. Avg'"
   ]
  },
  {
   "cell_type": "markdown",
   "id": "96cb3c44",
   "metadata": {},
   "source": [
    "__X__ Rename columns to be formatted as all lowercase and in snakecase. Remove periods from names."
   ]
  },
  {
   "cell_type": "markdown",
   "id": "b514c4d2",
   "metadata": {},
   "source": [
    "__X__ Format name to be all lowercase and in snakecase"
   ]
  },
  {
   "cell_type": "markdown",
   "id": "d79b0440",
   "metadata": {},
   "source": [
    "__X__ Find and delete duplicate values in\n",
    "    \n",
    "        - Username\n",
    "            - drop annajobling @ index 101\n",
    "            - drop kanebrown @ index 102\n",
    "            - drop nolaymex @ index 100\n",
    "        ___________________________________   \n",
    "        - Tiktok Link\n",
    "            column dropped\n",
    "        ___________________________________\n",
    "        - Name\n",
    "            Drop:\n",
    "            - drop nolay @ index 100\n",
    "            - drop annajobling @ index 101\n",
    "            - drop kanebrown @ index 102\n",
    "            ---------------------------------------------------------------\n",
    "            Do not drop:\n",
    "            - different tiktok accounts: fernanda @ index 22 and 191\n",
    "            - different tiktok accounts: max_taylor @ index 92 and 195\n",
    "            - different tiktok accounts: tommy @ index 288 and 785\n",
    "            - different tiktok accounts: mikaela_testa @ index 210 and 949\n",
    "            ---------------------------------------------------------------\n",
    "            Look in to:\n",
    "            - name 'NaN' probably refers to null values\n",
    "            \n",
    "            null values are located in column 'name' @ index 490 and 686. Because I do not plan to use name but am keeping it for identification and reference, these null values can remain as is\n",
    "        ___________________________________________________________________\n",
    "        Finalized Duplicates to Drop:\n",
    "            - drop annajobling @ index 101\n",
    "            - drop kanebrown @ index 102\n",
    "            - drop nolaymex @ index 100"
   ]
  },
  {
   "cell_type": "markdown",
   "id": "c1e33f42",
   "metadata": {},
   "source": [
    "__X__ Remove tiktok link. The link format is below.\n",
    "\n",
    "        https://www.tiktok.com/@Username"
   ]
  },
  {
   "cell_type": "markdown",
   "id": "8dcb1339",
   "metadata": {},
   "source": [
    "***ADDITIONAL DF CHANGE***\n",
    "    \n",
    "    I have created a column labeled engagement. This column is the sum of views, likes, comments, and shares in respect to each tiktok account. Subscribers was intentionally left out of the equation because I feel the metric is an unreliable indication of content and account performance, due to the nature of people to follow users they know in real life and/or admire like celebrities, but who do not necessarily post content. In other words, people have a tendency to follow people because of who they are.\n",
    "    \n",
    "*Question to get second opinion on:*\n",
    "\n",
    "    Currently engagement is:\n",
    "    \n",
    "       df['engagement'] = (avg.views + avg.likes + avg.comments + avg.shares)\n",
    "    \n",
    "    Instead of engagement being the sum of those metrics, should engagement be their average, since the metrics are averages themselves? AKA:\n",
    "    \n",
    "    df['engagement'] = (avg.views + avg.likes + avg.comments + avg.shares)/4"
   ]
  },
  {
   "cell_type": "markdown",
   "id": "9c9ec99f",
   "metadata": {},
   "source": [
    "# Exploratory Analysis"
   ]
  },
  {
   "cell_type": "markdown",
   "id": "29ce44be",
   "metadata": {},
   "source": [
    "### __Questions:__\n",
    "\n",
    "- **Is it best to remove outliers or keep them?**\n",
    "   \n",
    "        The outliers in this dataset are above the IQR, I have no outliers below the IQR. Do to the nature of social media success being a bit of an above IQR outlier itself, I will keep the outliers in the dataset and use them as a sort of indication for viral success. I will remove these outliers if my models have difficulty replicating their numbers.\n",
    "            I could possibly classify the data using IQR\n",
    "                - 0%-25%: underperformers\n",
    "                - 25%-75%: average\n",
    "                - 75%-100%: who is she\n",
    "                - outliers: viral\n",
    "                \n",
    "- **Does subscribers have influence over shares?**\n",
    "\n",
    "        It appears a large subscriber count does not correlate to high shares.\n",
    "        \n",
    "- **Does views have influence over shares?**\n",
    "\n",
    "        There may be a correlation. Statistic testing is necessary to confirm.\n",
    "        \n",
    "- **Does likes have influence over shares?**\n",
    "\n",
    "        There may be a correlation. Statistic testing is necessary to confirm.\n",
    "        \n",
    "- **Does comments have influence over shares?**\n",
    "\n",
    "        It does not appear there is a correlation but I will perform statistic test to be sure.\n",
    "    \n",
    "- **How does subscribers compare to engagement(likes, views, comments, and shares)**\n",
    "\n",
    "        There is a clear correlation between engagement and subscribers. Will perform stats testing to find line of best fit.\n",
    "        \n",
    "- **How does views compare to engagement(likes, views, comments, and shares)**\n",
    "\n",
    "        There seems to be a correlation but I need statistic testing to verify\n",
    "        \n",
    "- **How does likes compare to engagement(likes, views, comments, and shares)**\n",
    "\n",
    "        There might be a correlation but stats testing is needed\n",
    "    \n",
    "- **How does comments compare to engagement(likes, views, comments, and shares)**\n",
    "\n",
    "        If there is a correlation it is not obvious but it looks like something is happing. Stats tests needed.\n",
    "    \n",
    "- **How does shares compare to engagement(likes, views, comments, and shares)**\n",
    "\n",
    "        They look like inverses of one another. Stats testing.\n",
    "        \n",
    "- **What does the data look like if I remove views from engagement and added shares?**\n",
    "\n",
    "        It does not look significantly different. I will keep views in \n",
    "\n",
    "- **Is total engagement, shares, or views the best indication of success?**\n",
    "        \n",
    "        Engagement had a smaller p value for all stats testing commpared to Shares. Because a smaller p-value indicates a stronger correlation, I am choosing to move foreward with Engagement as my y value.\n",
    "\n",
    "\n",
    "- **What does the data look like if I classify by the iqr?**"
   ]
  },
  {
   "cell_type": "markdown",
   "id": "ba87a0b4",
   "metadata": {},
   "source": [
    "__Statistic Testing__\n",
    "    \n",
    "    - views X shares\n",
    "        There is a statistically significant relationship between views and shares.\n",
    "        \n",
    "    - likes X shares\n",
    "        There is a statistically significant relationship between likes and shares.\n",
    "        \n",
    "    - comments X shares\n",
    "        There is a statistically significant relationship between likes and shares.\n",
    "        \n",
    "    - subscribers X engagement\n",
    "        There is a statistically significant relationship.\n",
    "        \n",
    "    - views X engagement\n",
    "        There is a statistically significant relationship.\n",
    "    \n",
    "    - likes X engagement\n",
    "        There is a statistically significant relationship.\n",
    "    \n",
    "    - comments X engagement\n",
    "        There is a statistically significant relationship.\n",
    "        \n",
    "    - shares X engagement\n",
    "        There is NOT a statistically significant relationship."
   ]
  },
  {
   "cell_type": "code",
   "execution_count": null,
   "id": "513a8ff2",
   "metadata": {},
   "outputs": [],
   "source": []
  }
 ],
 "metadata": {
  "kernelspec": {
   "display_name": "Python 3 (ipykernel)",
   "language": "python",
   "name": "python3"
  },
  "language_info": {
   "codemirror_mode": {
    "name": "ipython",
    "version": 3
   },
   "file_extension": ".py",
   "mimetype": "text/x-python",
   "name": "python",
   "nbconvert_exporter": "python",
   "pygments_lexer": "ipython3",
   "version": "3.9.13"
  }
 },
 "nbformat": 4,
 "nbformat_minor": 5
}
