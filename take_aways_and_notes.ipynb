{
 "cells": [
  {
   "cell_type": "markdown",
   "id": "f2c32c61",
   "metadata": {},
   "source": [
    "# Acquire"
   ]
  },
  {
   "cell_type": "markdown",
   "id": "2a597ebc",
   "metadata": {},
   "source": [
    "### Original Data Set"
   ]
  },
  {
   "cell_type": "markdown",
   "id": "e6a77ca2",
   "metadata": {},
   "source": [
    "__Shape:__ \n",
    "    \n",
    "    (1000,9)\n",
    "    (rows, columns)"
   ]
  },
  {
   "cell_type": "markdown",
   "id": "859516df",
   "metadata": {},
   "source": [
    "__Stats:__ \n",
    "    \n",
    "- Only statistics for column - Rank were given. \n",
    "- 'Rank' does not need stats. \n",
    "- Other stats can be attained from the below columns once cleaned to be numerical.\n",
    "\n",
    "        - Subscribers Count \n",
    "        - Views. Avg\n",
    "        - Likes. Avg \n",
    "        - Comments. Avg \n",
    "        - Shares. Avg"
   ]
  },
  {
   "cell_type": "markdown",
   "id": "8b880305",
   "metadata": {},
   "source": [
    "__Info__:\n",
    "\n",
    "- 'Name' has 2 null values\n",
    "- All columns except 'Rank' are objects\n",
    "- These columns will be changed to a float because that is a usuable dtype.\n",
    "\n",
    "        - Subscribers Count \n",
    "        - Views. Avg \n",
    "        - Likes. Avg\n",
    "        - Comments. Avg \n",
    "        - Shares. Avg\n",
    "- rename columns to be lowercase and snakecase"
   ]
  },
  {
   "cell_type": "markdown",
   "id": "779269cd",
   "metadata": {},
   "source": [
    "__Data Types:__\n",
    "\n",
    "- All columns except 'Rank' are objects\n",
    "- These columns will be changed to a float because that is a usuable dtype.\n",
    "\n",
    "        - Subscribers Count\n",
    "        - Views. Avg \n",
    "        - Likes. Avg \n",
    "        - Comments. Avg\n",
    "        - Shares. Avg"
   ]
  },
  {
   "cell_type": "markdown",
   "id": "65c240f4",
   "metadata": {},
   "source": [
    "__Null/ NA Values:__\n",
    "    \n",
    "\n",
    "- 'Name' contains 2 null values."
   ]
  },
  {
   "cell_type": "markdown",
   "id": "313d5443",
   "metadata": {},
   "source": [
    "__Unique Value Count:__\n",
    "\n",
    "    Rank                 1000\n",
    "    Username              997 (3 DUPLICATES)\n",
    "    Tiktok Link           997 (3 DUPLICATES)\n",
    "    Name                  991 (7 DUPLICATES, 2 NULL)\n",
    "    Subscribers Count     413\n",
    "    Views. Avg            128\n",
    "    Likes. Avg            879\n",
    "    Comments. Avg         255\n",
    "    Shares. Avg           376\n",
    "    \n",
    "    Because of the 1:1 identifying nature of \n",
    "        - Username \n",
    "        - Tiktok Link \n",
    "        - Name\n",
    "    I am able to quickly see there are duplicates present in these columns. The remaining columns do not follow the same 1:1 nature thus the presence of duplicate values is not relevent."
   ]
  },
  {
   "cell_type": "markdown",
   "id": "60659898",
   "metadata": {},
   "source": [
    "__To Do for Data Cleaning:__"
   ]
  },
  {
   "cell_type": "markdown",
   "id": "b68efa42",
   "metadata": {},
   "source": [
    "__X__ Convert these columns to be numerical.\n",
    "\n",
    "        - Subscribers Count\n",
    "        - Views. Avg\n",
    "        - Likes. Avg \n",
    "        - Comments. Avg\n",
    "        - Shares. Avg'"
   ]
  },
  {
   "cell_type": "markdown",
   "id": "6ce9742b",
   "metadata": {},
   "source": [
    "__X__ Rename columns to be formatted as all lowercase and in snakecase. Remove periods from names."
   ]
  },
  {
   "cell_type": "markdown",
   "id": "0f4cf9fb",
   "metadata": {},
   "source": [
    "__X__ Format name to be all lowercase and in snakecase"
   ]
  },
  {
   "cell_type": "markdown",
   "id": "ef6926d1",
   "metadata": {},
   "source": [
    "__X__ Find and delete duplicate values in\n",
    "    \n",
    "        - Username\n",
    "            - drop annajobling @ index 101\n",
    "            - drop kanebrown @ index 102\n",
    "            - drop nolaymex @ index 100\n",
    "        ___________________________________   \n",
    "        - Tiktok Link\n",
    "            column dropped\n",
    "        ___________________________________\n",
    "        - Name\n",
    "            Drop:\n",
    "            - drop nolay @ index 100\n",
    "            - drop annajobling @ index 101\n",
    "            - drop kanebrown @ index 102\n",
    "            ---------------------------------------------------------------\n",
    "            Do not drop:\n",
    "            - different tiktok accounts: fernanda @ index 22 and 191\n",
    "            - different tiktok accounts: max_taylor @ index 92 and 195\n",
    "            - different tiktok accounts: tommy @ index 288 and 785\n",
    "            - different tiktok accounts: mikaela_testa @ index 210 and 949\n",
    "            ---------------------------------------------------------------\n",
    "            Look in to:\n",
    "            - name 'NaN' probably refers to null values\n",
    "            \n",
    "            null values are located in column 'name' @ index 490 and 686. Because I do not plan to use name but am keeping it for identification and reference, these null values can remain as is\n",
    "        ___________________________________________________________________\n",
    "        Finalized Duplicates to Drop:\n",
    "            - drop annajobling @ index 101\n",
    "            - drop kanebrown @ index 102\n",
    "            - drop nolaymex @ index 100"
   ]
  },
  {
   "cell_type": "markdown",
   "id": "5b483c4b",
   "metadata": {},
   "source": [
    "__X__ Remove tiktok link. The link format is below.\n",
    "\n",
    "        https://www.tiktok.com/@Username"
   ]
  },
  {
   "cell_type": "code",
   "execution_count": null,
   "id": "6b7e2097",
   "metadata": {},
   "outputs": [],
   "source": []
  }
 ],
 "metadata": {
  "kernelspec": {
   "display_name": "Python 3 (ipykernel)",
   "language": "python",
   "name": "python3"
  },
  "language_info": {
   "codemirror_mode": {
    "name": "ipython",
    "version": 3
   },
   "file_extension": ".py",
   "mimetype": "text/x-python",
   "name": "python",
   "nbconvert_exporter": "python",
   "pygments_lexer": "ipython3",
   "version": "3.9.13"
  }
 },
 "nbformat": 4,
 "nbformat_minor": 5
}
