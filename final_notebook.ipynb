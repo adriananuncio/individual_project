{
 "cells": [
  {
   "cell_type": "markdown",
   "id": "be3868e6",
   "metadata": {},
   "source": [
    "# Objective"
   ]
  },
  {
   "cell_type": "markdown",
   "id": "e52fec70",
   "metadata": {},
   "source": [
    "__Scenerio:__\n",
    "\n",
    "       PR firm, ExoPublic, has noticed the immense success generated through popular social media app - Tiktok. In 2023, the social media app has over 1.53 billion users, with over 1 billion videos watched daily (1). Celebrities, politicians, social media influencers, and most notibly, average, everyday people, have all been able to successfuly generate support for and/or promote their agenda through Tiktok. \n",
    "       ExoPublic wants to fill their client's audience gap by begining to direct their clients to generate a presence on Tiktok. However, the firm has limited knowledge of the app and does not know how to guide clients or what constitutes Tiktok success.\n",
    "       ExoPublic has asked for the help of data scientist to determine how to generate success on Tiktok. The objective of the analysis of the dataset \"Top 1000 Tiktokers all over the world\" is to determine drivers and models for success on Tiktok. \n",
    "       \n",
    "    1 https://www.demandsage.com/tiktok-user-statistics/"
   ]
  },
  {
   "cell_type": "markdown",
   "id": "343c904e",
   "metadata": {},
   "source": [
    "# Acquire"
   ]
  },
  {
   "cell_type": "markdown",
   "id": "0ea1aedd",
   "metadata": {},
   "source": [
    "    My acquired data set is named \"Top 1000 Tiktokers all over the world\". The csv file was downloaded from kaggle:\n",
    "https://www.kaggle.com/datasets/syedjaferk/top-1000-tiktokers\n",
    "\n",
    "    The data was published to kaggle by user Syed Jafer using collection method - scrapping and source - internet. No date is available."
   ]
  },
  {
   "cell_type": "markdown",
   "id": "50fc2236",
   "metadata": {},
   "source": [
    "__Data Dictionary:__\n",
    "   __________________________________________________________________\n",
    "    Rank:              |Overall rank based on followers and popularity\n",
    "   __________________________________________________________________\n",
    "    Username:          |Handle used in tiktok.\n",
    "   __________________________________________________________________\n",
    "    Tiktok Link:       |Url for the user. \n",
    "   __________________________________________________________________\n",
    "    Name:              |Account Name\n",
    "   __________________________________________________________________\n",
    "    Subscribers Count: |No of subscribers/followers\n",
    "   __________________________________________________________________\n",
    "    Views. Avg:        |Avg Views of the content.\n",
    "   __________________________________________________________________\n",
    "    Likes Avg:         |Average likes\n",
    "   __________________________________________________________________\n",
    "    Comments. Avg:     |Average Comments\n",
    "   __________________________________________________________________\n",
    "    Shares. Avg:       |Average Shares\n",
    "   __________________________________________________________________"
   ]
  },
  {
   "cell_type": "code",
   "execution_count": null,
   "id": "6921287c",
   "metadata": {},
   "outputs": [],
   "source": []
  }
 ],
 "metadata": {
  "kernelspec": {
   "display_name": "Python 3 (ipykernel)",
   "language": "python",
   "name": "python3"
  },
  "language_info": {
   "codemirror_mode": {
    "name": "ipython",
    "version": 3
   },
   "file_extension": ".py",
   "mimetype": "text/x-python",
   "name": "python",
   "nbconvert_exporter": "python",
   "pygments_lexer": "ipython3",
   "version": "3.9.13"
  }
 },
 "nbformat": 4,
 "nbformat_minor": 5
}
