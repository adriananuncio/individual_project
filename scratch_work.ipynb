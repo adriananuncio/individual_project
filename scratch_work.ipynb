{
 "cells": [
  {
   "cell_type": "code",
   "execution_count": null,
   "id": "57844914",
   "metadata": {},
   "outputs": [],
   "source": [
    "# create data table of user engagement\n",
    "# the table will include subscribers, views, likes, and comments\n",
    "engagement = df.drop(X_train.columns[0], axis=1)\n",
    "engagement = engagement.drop(X_train.columns[1], axis=1)\n",
    "engagement = engagement.drop(X_train.columns[2], axis=1)\n",
    "\n",
    "# create column with the sum of the x variables for each row\n",
    "engagement['engagement'] = engagement['subscribers'] + engagement['views'] + engagement['likes'] + engagement['comments']\n",
    "\n",
    "# add total engagement to train\n",
    "X_train['engagement'] = engagement['engagement']\n",
    "\n",
    "# drop views from engagement\n",
    "engagement = engagement.drop(engagement.columns[1], axis=1)\n",
    "\n",
    "# add shares to engagement\n",
    "engagement['shares'] = y_train\n",
    "\n",
    "engagement.info()"
   ]
  }
 ],
 "metadata": {
  "kernelspec": {
   "display_name": "Python 3 (ipykernel)",
   "language": "python",
   "name": "python3"
  },
  "language_info": {
   "codemirror_mode": {
    "name": "ipython",
    "version": 3
   },
   "file_extension": ".py",
   "mimetype": "text/x-python",
   "name": "python",
   "nbconvert_exporter": "python",
   "pygments_lexer": "ipython3",
   "version": "3.9.13"
  }
 },
 "nbformat": 4,
 "nbformat_minor": 5
}
