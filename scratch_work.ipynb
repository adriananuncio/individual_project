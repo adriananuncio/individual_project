{
 "cells": [
  {
   "cell_type": "code",
   "execution_count": null,
   "id": "57844914",
   "metadata": {},
   "outputs": [],
   "source": [
    "# create data table of user engagement\n",
    "# the table will include subscribers, views, likes, and comments\n",
    "engagement = df.drop(X_train.columns[0], axis=1)\n",
    "engagement = engagement.drop(X_train.columns[1], axis=1)\n",
    "engagement = engagement.drop(X_train.columns[2], axis=1)\n",
    "\n",
    "# create column with the sum of the x variables for each row\n",
    "engagement['engagement'] = engagement['subscribers'] + engagement['views'] + engagement['likes'] + engagement['comments']\n",
    "\n",
    "# add total engagement to train\n",
    "X_train['engagement'] = engagement['engagement']\n",
    "\n",
    "# drop views from engagement\n",
    "engagement = engagement.drop(engagement.columns[1], axis=1)\n",
    "\n",
    "# add shares to engagement\n",
    "engagement['shares'] = y_train\n",
    "\n",
    "engagement.info()"
   ]
  },
  {
   "cell_type": "code",
   "execution_count": null,
   "id": "152313ac",
   "metadata": {},
   "outputs": [],
   "source": [
    "# view X_train variables against y_train\n",
    "plt.figure(figsize=[10,15])\n",
    "plt.subplot(421)\n",
    "plt.title('Shares x Subscribers')\n",
    "sns.scatterplot(X_train.shares, X_train.subscribers, hue=X_train.subscribers)\n",
    "plt.subplot(422)\n",
    "plt.title('Shares x Subscribers')\n",
    "sns.scatterplot(X_train.shares, X_train.subscribers, hue=y_train)\n",
    "plt.subplot(423)\n",
    "plt.title('Shares x Views')\n",
    "sns.scatterplot(X_train.shares, X_train.views, hue=X_train.views)\n",
    "plt.subplot(424)\n",
    "plt.title('Shares x Views')\n",
    "sns.scatterplot(X_train.shares, X_train.views, hue=y_train)\n",
    "plt.subplot(425)\n",
    "plt.title('Shares x Likes')\n",
    "sns.scatterplot(X_train.shares, X_train.likes, hue=X_train.likes)\n",
    "plt.subplot(426)\n",
    "plt.title('Shares x Likes')\n",
    "sns.scatterplot(X_train.shares, X_train.likes, hue=y_train)\n",
    "plt.subplot(427)\n",
    "plt.title('Shares x Comments')\n",
    "sns.scatterplot(X_train.shares, X_train.comments, hue=X_train.comments)\n",
    "plt.subplot(428)\n",
    "plt.title('Shares x Comments')\n",
    "sns.scatterplot(X_train.shares, X_train.comments, hue=y_train)\n",
    "plt.tight_layout()\n",
    "plt.show()"
   ]
  }
 ],
 "metadata": {
  "kernelspec": {
   "display_name": "Python 3 (ipykernel)",
   "language": "python",
   "name": "python3"
  },
  "language_info": {
   "codemirror_mode": {
    "name": "ipython",
    "version": 3
   },
   "file_extension": ".py",
   "mimetype": "text/x-python",
   "name": "python",
   "nbconvert_exporter": "python",
   "pygments_lexer": "ipython3",
   "version": "3.9.13"
  }
 },
 "nbformat": 4,
 "nbformat_minor": 5
}
